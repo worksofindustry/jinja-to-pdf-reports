{
 "cells": [
  {
   "cell_type": "markdown",
   "id": "d7e3a84a",
   "metadata": {},
   "source": [
    "## Imports and Database Connections"
   ]
  },
  {
   "cell_type": "code",
   "execution_count": 1,
   "id": "fc0763f2",
   "metadata": {},
   "outputs": [],
   "source": [
    "from sqlalchemy import create_engine\n",
    "from aws import utils\n",
    "import pandas as pd"
   ]
  },
  {
   "cell_type": "code",
   "execution_count": 2,
   "id": "bd74640f",
   "metadata": {},
   "outputs": [],
   "source": [
    "from jinja2 import Environment, FileSystemLoader\n",
    "env = Environment(loader=FileSystemLoader('.'))\n",
    "template = env.get_template(\"base.html\")"
   ]
  },
  {
   "cell_type": "code",
   "execution_count": 3,
   "id": "c8231ce3",
   "metadata": {},
   "outputs": [],
   "source": [
    "db_config = utils.get_secret()\n",
    "\n",
    "engine_string = \"postgresql+psycopg2://{user}:{password}@{host}:{port}/{database}\".format(\n",
    "    user = db_config['username'],\n",
    "    password = db_config['password'],\n",
    "    host = db_config['host'],\n",
    "    port = db_config['port'],\n",
    "    database = db_config['dbname'],\n",
    ")\n",
    "engine = create_engine(engine_string)"
   ]
  },
  {
   "cell_type": "markdown",
   "id": "2abb9bd9",
   "metadata": {},
   "source": [
    "## Field Map"
   ]
  },
  {
   "cell_type": "code",
   "execution_count": null,
   "id": "dfd32e6c",
   "metadata": {
    "tags": []
   },
   "outputs": [],
   "source": [
    "from bokeh.io import output_file, show\n",
    "from bokeh.models import ColumnDataSource, GMapOptions\n",
    "from bokeh.plotting import gmap\n",
    "\n",
    "map_options = GMapOptions(lat=35.01562, lng=-85.3197, map_type=\"satellite\", zoom=20, tilt=55)\n",
    "\n",
    "# For GMaps to function, Google requires you obtain and enable an API key:\n",
    "# https://developers.google.com/maps/documentation/javascript/get-api-key\n",
    "# Replace the value below with your personal API key:\n",
    "plot = gmap(\"<yourAPIkey>\", map_options)\n",
    "\n",
    "inspect_points = ColumnDataSource(data=dict(lat=[ 35.01562,  35.01555], lon=[-85.3197, -85.3185]))\n",
    "\n",
    "plot.circle(x=\"lon\", y=\"lat\", size=15, fill_color=\"blue\", fill_alpha=0.8, source=inspect_points)\n",
    "\n",
    "from bokeh.io import export_png\n",
    "export_png(plot, filename=\"plot.png\")"
   ]
  },
  {
   "cell_type": "markdown",
   "id": "5974e58a",
   "metadata": {},
   "source": [
    "## Inspection Photos"
   ]
  },
  {
   "cell_type": "code",
   "execution_count": 5,
   "id": "6d5cbb3b",
   "metadata": {},
   "outputs": [
    {
     "name": "stdout",
     "output_type": "stream",
     "text": [
      "Successful S3 get_object response. Status - 200\n"
     ]
    }
   ],
   "source": [
    "file_id = 5\n",
    "AWS_ACCESS_KEY_ID = \n",
    "AWS_SECRET_ACCESS_KEY = \n",
    "AWS_S3_RESULTS_BUCKET = \n",
    "photos = utils.read_det_file(AWS_ACCESS_KEY_ID, AWS_SECRET_ACCESS_KEY, AWS_S3_RESULTS_BUCKET, file_id, engine)\n",
    "# construct photo tags\n",
    "photos[\"FILE_LOC\"]= \"<img src='\" + photos[\"FILE_LOC\"] + \"' width=88 height=66 />\""
   ]
  },
  {
   "cell_type": "markdown",
   "id": "3cd56e51",
   "metadata": {},
   "source": [
    "## Header Section"
   ]
  },
  {
   "cell_type": "code",
   "execution_count": 6,
   "id": "3aff492c",
   "metadata": {},
   "outputs": [],
   "source": [
    "sql_header=f\"select video_detail.name as file_name, work_order, address, pipe_segment, operator, \\\n",
    "date as date_video_collected, description as model_type \\\n",
    "from video_detail \\\n",
    "left join video_project on video_project.file_id=video_detail.id \\\n",
    "left join video_modeltypes on video_project.model_type=video_modeltypes.code \\\n",
    "where file_id={file_id};\"\n",
    "\n",
    "conn = engine.connect()\n",
    "header = pd.read_sql(sql_header, conn)\n",
    "file_name = header[\"file_name\"].values[0].replace('\\n','')\n",
    "work_order = header[\"work_order\"].values[0].replace('\\n','')\n",
    "address = header[\"address\"].values[0].replace('\\n','')\n",
    "pipe_segment = header[\"pipe_segment\"].values[0].replace('\\n','')\n",
    "operator = header[\"operator\"].values[0].replace('\\n','')\n",
    "date_video_collected = str(header[\"date_video_collected\"].values[0])\n",
    "model_type = header[\"model_type\"].values[0].replace('\\n','')"
   ]
  },
  {
   "cell_type": "code",
   "execution_count": 7,
   "id": "a094b2d9",
   "metadata": {},
   "outputs": [],
   "source": [
    "# map template vars for base.html\n",
    "template_vars = {\"title\" : \"Sewer Inspection Report\", \n",
    "                 \"insights\": photos.to_html(index=False, escape=False),\n",
    "                 \"file_name\": file_name,\n",
    "                 \"work_order\": work_order,\n",
    "                 \"address\": address,\n",
    "                 \"pipe_segment\": pipe_segment,\n",
    "                 \"operator\": operator,\n",
    "                 \"date_video_collected\": date_video_collected,\n",
    "                 \"model_type\": model_type             \n",
    "                }\n",
    "\n",
    "html_out = template.render(template_vars)"
   ]
  },
  {
   "cell_type": "markdown",
   "id": "f1ffecdf",
   "metadata": {},
   "source": [
    "## Putting it All Together"
   ]
  },
  {
   "cell_type": "code",
   "execution_count": 8,
   "id": "3801e446",
   "metadata": {},
   "outputs": [],
   "source": [
    "from weasyprint import HTML\n",
    "from weasyprint import default_url_fetcher\n",
    "HTML(string=html_out, base_url=\"\").write_pdf(target=f\"{address}.pdf\", stylesheets=[\"./bootstrap/css/styles.css\", \"./bootstrap/js/scripts.js\"], presentational_hints=True, optimize_size=('fonts', 'images'))"
   ]
  }
 ],
 "metadata": {
  "kernelspec": {
   "display_name": "Python 3 (ipykernel)",
   "language": "python",
   "name": "python3"
  },
  "language_info": {
   "codemirror_mode": {
    "name": "ipython",
    "version": 3
   },
   "file_extension": ".py",
   "mimetype": "text/x-python",
   "name": "python",
   "nbconvert_exporter": "python",
   "pygments_lexer": "ipython3",
   "version": "3.8.8"
  }
 },
 "nbformat": 4,
 "nbformat_minor": 5
}
